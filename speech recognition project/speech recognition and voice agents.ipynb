{
 "cells": [
  {
   "cell_type": "code",
   "execution_count": null,
   "metadata": {},
   "outputs": [],
   "source": [
    "import speech_recognition as sr\n",
    "import webbrowser as wb"
   ]
  },
  {
   "cell_type": "code",
   "execution_count": null,
   "metadata": {},
   "outputs": [],
   "source": [
    "r = sr.Recognizer()"
   ]
  },
  {
   "cell_type": "code",
   "execution_count": null,
   "metadata": {},
   "outputs": [],
   "source": [
    "mic = sr.Microphone()"
   ]
  },
  {
   "cell_type": "markdown",
   "metadata": {},
   "source": [
    "# voice to text (english)"
   ]
  },
  {
   "cell_type": "code",
   "execution_count": null,
   "metadata": {},
   "outputs": [],
   "source": [
    " with mic as source:\n",
    "        print(\"start now\")\n",
    "        audio = r.listen(source)\n",
    "r.recognize_google(audio)"
   ]
  },
  {
   "cell_type": "markdown",
   "metadata": {},
   "source": [
    "# voice to text (hindi)\n"
   ]
  },
  {
   "cell_type": "code",
   "execution_count": null,
   "metadata": {},
   "outputs": [],
   "source": [
    "with mic as source:\n",
    "    print(\"SAY SOMETHING \")\n",
    "    audio = r.listen(source)\n",
    "    print(\"Thanks for the input. Your output is-\")\n",
    "r.recognize_google(audio,language='hi-IN')"
   ]
  },
  {
   "cell_type": "code",
   "execution_count": null,
   "metadata": {},
   "outputs": [],
   "source": [
    "r3=sr.Recognizer()\n",
    "r2=sr.Recognizer()"
   ]
  },
  {
   "cell_type": "markdown",
   "metadata": {},
   "source": [
    "# agent google"
   ]
  },
  {
   "cell_type": "code",
   "execution_count": null,
   "metadata": {},
   "outputs": [],
   "source": [
    "with sr.Microphone() as source:\n",
    "    print('[say HELLO]')\n",
    "    print('speak now')\n",
    "    audio=r3.listen(source) \n",
    "if 'hello' in r2.recognize_google(audio):\n",
    "    r2=sr.Recognizer()\n",
    "    url='https://www.google.com/search?q='\n",
    "    with sr.Microphone() as source:\n",
    "        print('search your query')\n",
    "        audio=r2.listen(source)\n",
    "try:\n",
    "    get=r2.recognize_google(audio)\n",
    "    print(get)\n",
    "    wb.get().open_new(url+get)\n",
    "            \n",
    "except sr.UnknownValueError:\n",
    "    print('Error')\n",
    "except sr.RequestError as e:\n",
    "    print('failed'.format(e))"
   ]
  },
  {
   "cell_type": "markdown",
   "metadata": {},
   "source": [
    "# agent youtube"
   ]
  },
  {
   "cell_type": "code",
   "execution_count": null,
   "metadata": {},
   "outputs": [],
   "source": [
    "with sr.Microphone() as source:\n",
    "    print('[say VIDEO]')\n",
    "    print('speak now')\n",
    "    audio=r3.listen(source) \n",
    "if 'video' in r2.recognize_google(audio):\n",
    "    r2=sr.Recognizer()\n",
    "    url='https://www.youtube.com/results?search_query='\n",
    "    with sr.Microphone() as source:\n",
    "        print('search your query')\n",
    "        audio=r2.listen(source)\n",
    "try:\n",
    "    get=r2.recognize_google(audio)\n",
    "    print(get)\n",
    "    wb.get().open_new(url+get)\n",
    "            \n",
    "except sr.UnknownValueError:\n",
    "    print('Error')\n",
    "except sr.RequestError as e:\n",
    "    print('failed'.format(e))"
   ]
  },
  {
   "cell_type": "markdown",
   "metadata": {},
   "source": [
    "# agent edureka"
   ]
  },
  {
   "cell_type": "code",
   "execution_count": null,
   "metadata": {},
   "outputs": [],
   "source": [
    "with sr.Microphone() as source:\n",
    "    print('[say EDUREKA]')\n",
    "    print('speak now')\n",
    "    audio=r3.listen(source) \n",
    "if 'edureka' in r2.recognize_google(audio):\n",
    "    r2=sr.Recognizer()\n",
    "    url='https://www.edureka.co/'\n",
    "    with sr.Microphone() as source:\n",
    "        print('search your query')\n",
    "        audio=r2.listen(source)\n",
    "try:\n",
    "    get=r2.recognize_google(audio)\n",
    "    print(get)\n",
    "    wb.get().open_new(url+get)\n",
    "            \n",
    "except sr.UnknownValueError:\n",
    "    print('Error')\n",
    "except sr.RequestError as e:\n",
    "    print('failed'.format(e))"
   ]
  },
  {
   "cell_type": "code",
   "execution_count": null,
   "metadata": {},
   "outputs": [],
   "source": []
  }
 ],
 "metadata": {
  "kernelspec": {
   "display_name": "Python 3",
   "language": "python",
   "name": "python3"
  },
  "language_info": {
   "codemirror_mode": {
    "name": "ipython",
    "version": 3
   },
   "file_extension": ".py",
   "mimetype": "text/x-python",
   "name": "python",
   "nbconvert_exporter": "python",
   "pygments_lexer": "ipython3",
   "version": "3.7.6"
  }
 },
 "nbformat": 4,
 "nbformat_minor": 2
}
